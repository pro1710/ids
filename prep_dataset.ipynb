{
 "cells": [
  {
   "cell_type": "code",
   "execution_count": 3,
   "metadata": {},
   "outputs": [],
   "source": [
    "import os\n",
    "\n",
    "import numpy as np\n",
    "import pandas as pd\n",
    "import matplotlib.pyplot as plt\n",
    "import seaborn as sns\n",
    "import random\n",
    "\n",
    "from sklearn.metrics import  classification_report\n",
    "from sklearn.metrics import ConfusionMatrixDisplay\n",
    "from sklearn.metrics import accuracy_score\n",
    "from sklearn.metrics import roc_curve, auc\n",
    "\n",
    "from sklearn.model_selection import train_test_split\n",
    "from sklearn.model_selection import cross_val_score\n",
    "\n",
    "from sklearn import tree\n",
    "from sklearn.tree import DecisionTreeClassifier\n",
    "\n",
    "%matplotlib inline "
   ]
  },
  {
   "cell_type": "code",
   "execution_count": 2,
   "metadata": {},
   "outputs": [
    {
     "data": {
      "text/plain": [
       "<module 'ids_common' from 'd:\\\\stuff\\\\univ\\\\ids\\\\ids_common.py'>"
      ]
     },
     "execution_count": 2,
     "metadata": {},
     "output_type": "execute_result"
    }
   ],
   "source": [
    "import importlib\n",
    "import ids_common\n",
    "importlib.reload(ids_common)"
   ]
  },
  {
   "cell_type": "code",
   "execution_count": 10,
   "metadata": {},
   "outputs": [],
   "source": [
    "sample_koefs = {\n",
    "# ATTACK\n",
    "    'OS_Fingerprinting_attack.csv':1,\n",
    "    'MITM_attack.csv':1,\n",
    "    'Ransomware_attack.csv':1,\n",
    "    'XSS_attack.csv':1,\n",
    "    'Port_Scanning_attack.csv':1,\n",
    "    'Backdoor_attack.csv':1,\n",
    "    'Uploading_attack.csv':1,\n",
    "    'SQL_injection_attack.csv':1,\n",
    "    'Vulnerability_scanner_attack.csv':0.5,\n",
    "    'DDoS_HTTP_Flood_attack.csv':0.5,\n",
    "    'Password_attack.csv':0.3,\n",
    "    'DDoS_TCP_SYN_Flood_attack.csv':0.1,\n",
    "    'DDoS_ICMP_Flood_attack.csv':0.1,\n",
    "    'DDoS_UDP_Flood_attack.csv':0.1,\n",
    "# Normal\n",
    "    'Modbus.csv':0.5,\n",
    "    'Heart_Rate.csv':0.5,\n",
    "    'phValue.csv':0.3,\n",
    "    'Flame_Sensor.csv':0.25,\n",
    "    'Distance.csv':0.25,\n",
    "    'Soil_Moisture.csv':0.25,\n",
    "    'IR_Receiver.csv':0.2,\n",
    "    'Sound_Sensor.csv':0.2,\n",
    "    'Temperature_and_Humidity.csv':0.2,\n",
    "    'Water_Level.csv':0.2\n",
    "}"
   ]
  },
  {
   "cell_type": "code",
   "execution_count": 26,
   "metadata": {},
   "outputs": [],
   "source": [
    "sample_dir = './sampled_data/sample_1/'\n",
    "if not os.path.exists(sample_dir):\n",
    "    os.mkdir(sample_dir)\n",
    "\n",
    "with open(sample_dir + 'koefs.txt', 'w') as f:\n",
    "    for name, koef in sample_koefs.items():\n",
    "        f.write(f\"'{name}' : {koef},\\n\")\n"
   ]
  },
  {
   "cell_type": "code",
   "execution_count": 18,
   "metadata": {},
   "outputs": [],
   "source": [
    "DATASET = 'dataset/Edge-IIoTset-dataset'\n",
    "datasets_locations = []\n",
    "for path, dirs, files in os.walk(DATASET):\n",
    "    for file in files:\n",
    "        if file.endswith('csv'):\n",
    "            loc = f'{path}/{file}'\n",
    "            if 'Selected dataset for ML and DL' not in loc:\n",
    "                datasets_locations.append(loc)"
   ]
  },
  {
   "cell_type": "code",
   "execution_count": 22,
   "metadata": {},
   "outputs": [
    {
     "name": "stdout",
     "output_type": "stream",
     "text": [
      "Backdoor_attack.csv 1: 24862 -> 24862\n",
      "DDoS_HTTP_Flood_attack.csv 0.5: 229022 -> 114511\n",
      "DDoS_ICMP_Flood_attack.csv 0.1: 2914354 -> 291435\n",
      "DDoS_TCP_SYN_Flood_attack.csv 0.1: 2020120 -> 202012\n",
      "DDoS_UDP_Flood_attack.csv 0.1: 3201626 -> 320163\n",
      "MITM_attack.csv 1: 1229 -> 1229\n",
      "OS_Fingerprinting_attack.csv 1: 1001 -> 1001\n",
      "Password_attack.csv 0.3: 1053385 -> 316016\n",
      "Port_Scanning_attack.csv 1: 22564 -> 22564\n",
      "Ransomware_attack.csv 1: 10925 -> 10925\n",
      "SQL_injection_attack.csv 1: 51203 -> 51203\n",
      "Uploading_attack.csv 1: 37634 -> 37634\n",
      "Vulnerability_scanner_attack.csv 0.5: 145869 -> 72934\n",
      "XSS_attack.csv 1: 15915 -> 15915\n",
      "Distance.csv 0.25: 1143540 -> 285885\n",
      "Flame_Sensor.csv 0.25: 1070196 -> 267549\n",
      "Heart_Rate.csv 0.5: 165319 -> 82660\n",
      "IR_Receiver.csv 0.2: 1307778 -> 261556\n",
      "Modbus.csv 0.5: 159502 -> 79751\n",
      "phValue.csv 0.3: 746908 -> 224072\n",
      "Soil_Moisture.csv 0.25: 1192777 -> 298194\n",
      "Sound_Sensor.csv 0.2: 1512883 -> 302577\n",
      "Temperature_and_Humidity.csv 0.2: 1615722 -> 323144\n",
      "Water_Level.csv 0.2: 2295288 -> 459058\n"
     ]
    }
   ],
   "source": [
    "#sample\n",
    "\n",
    "total_size = 0\n",
    "\n",
    "for ds_loc in datasets_locations:\n",
    "    _, f = os.path.split(ds_loc)\n",
    "\n",
    "    df = pd.read_csv(ds_loc, low_memory=False\n",
    "    koef = sample_koefs[f]\n",
    "    df_sample = df.sample(frac=koef)\n",
    "\n",
    "    print(f'{f} {sample_koefs[f]}: {df.shape[0]} -> {df_sample.shape[0]}')\n",
    "\n",
    "    total_size += df_sample.shape[0]\n",
    "\n",
    "    df_sample.to_csv(sample_dir + f'sampled_{koef}_' + f)\n",
    "\n",
    "print(f'Total sample size: {total_size}')"
   ]
  },
  {
   "cell_type": "code",
   "execution_count": 35,
   "metadata": {},
   "outputs": [
    {
     "name": "stdout",
     "output_type": "stream",
     "text": [
      "Combined df size: (4066850, 64)\n"
     ]
    }
   ],
   "source": [
    "# combine dataframes\n",
    "\n",
    "df_combined = pd.DataFrame()\n",
    "for ds_file in os.listdir(sample_dir):\n",
    "    if 'sampled' in ds_file:\n",
    "        df = pd.read_csv(sample_dir + ds_file, low_memory=False)\n",
    "        df_combined = pd.concat([df_combined, df], ignore_index=True)\n",
    "\n",
    "print(f'Combined df size: {df_combined.shape}')\n",
    "df_combined.to_csv(sample_dir + f'combined_' + ds_file)\n"
   ]
  },
  {
   "cell_type": "code",
   "execution_count": 37,
   "metadata": {},
   "outputs": [
    {
     "data": {
      "text/plain": [
       "Attack_type\n",
       "Normal                   2584446\n",
       "DDoS_UDP                  320163\n",
       "Password                  316016\n",
       "DDoS_ICMP                 291435\n",
       "DDoS_TCP                  202012\n",
       "DDoS_HTTP                 114511\n",
       "Vulnerability_scanner      72934\n",
       "SQL_injection              51203\n",
       "Uploading                  37634\n",
       "Backdoor                   24862\n",
       "Port_Scanning              22564\n",
       "XSS                        15915\n",
       "Ransomware                 10925\n",
       "MITM                        1229\n",
       "OS_Fingerprinting           1001\n",
       "Name: count, dtype: int64"
      ]
     },
     "execution_count": 37,
     "metadata": {},
     "output_type": "execute_result"
    }
   ],
   "source": [
    "df_combined['Attack_type'].value_counts()"
   ]
  }
 ],
 "metadata": {
  "kernelspec": {
   "display_name": "ids",
   "language": "python",
   "name": "python3"
  },
  "language_info": {
   "codemirror_mode": {
    "name": "ipython",
    "version": 3
   },
   "file_extension": ".py",
   "mimetype": "text/x-python",
   "name": "python",
   "nbconvert_exporter": "python",
   "pygments_lexer": "ipython3",
   "version": "3.11.7"
  }
 },
 "nbformat": 4,
 "nbformat_minor": 2
}
