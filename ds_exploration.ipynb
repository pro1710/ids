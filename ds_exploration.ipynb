{
 "cells": [
  {
   "cell_type": "code",
   "execution_count": 1,
   "metadata": {},
   "outputs": [],
   "source": [
    "import numpy as np\n",
    "import pandas as pd\n",
    "import matplotlib.pyplot as plt\n",
    "import seaborn as sns\n",
    "\n",
    "import random\n",
    "%matplotlib inline "
   ]
  },
  {
   "cell_type": "code",
   "execution_count": 26,
   "metadata": {},
   "outputs": [
    {
     "name": "stdout",
     "output_type": "stream",
     "text": [
      "<class 'pandas.core.frame.DataFrame'>\n",
      "RangeIndex: 157800 entries, 0 to 157799\n",
      "Data columns (total 63 columns):\n",
      " #   Column                     Non-Null Count   Dtype  \n",
      "---  ------                     --------------   -----  \n",
      " 0   frame.time                 157800 non-null  object \n",
      " 1   ip.src_host                157800 non-null  object \n",
      " 2   ip.dst_host                157800 non-null  object \n",
      " 3   arp.dst.proto_ipv4         157800 non-null  object \n",
      " 4   arp.opcode                 157800 non-null  float64\n",
      " 5   arp.hw.size                157800 non-null  float64\n",
      " 6   arp.src.proto_ipv4         157800 non-null  object \n",
      " 7   icmp.checksum              157800 non-null  float64\n",
      " 8   icmp.seq_le                157800 non-null  float64\n",
      " 9   icmp.transmit_timestamp    157800 non-null  float64\n",
      " 10  icmp.unused                157800 non-null  float64\n",
      " 11  http.file_data             157800 non-null  object \n",
      " 12  http.content_length        157800 non-null  float64\n",
      " 13  http.request.uri.query     157800 non-null  object \n",
      " 14  http.request.method        157800 non-null  object \n",
      " 15  http.referer               157800 non-null  object \n",
      " 16  http.request.full_uri      157800 non-null  object \n",
      " 17  http.request.version       157800 non-null  object \n",
      " 18  http.response              157800 non-null  float64\n",
      " 19  http.tls_port              157800 non-null  float64\n",
      " 20  tcp.ack                    157800 non-null  float64\n",
      " 21  tcp.ack_raw                157800 non-null  float64\n",
      " 22  tcp.checksum               157800 non-null  float64\n",
      " 23  tcp.connection.fin         157800 non-null  float64\n",
      " 24  tcp.connection.rst         157800 non-null  float64\n",
      " 25  tcp.connection.syn         157800 non-null  float64\n",
      " 26  tcp.connection.synack      157800 non-null  float64\n",
      " 27  tcp.dstport                157800 non-null  float64\n",
      " 28  tcp.flags                  157800 non-null  float64\n",
      " 29  tcp.flags.ack              157800 non-null  float64\n",
      " 30  tcp.len                    157800 non-null  float64\n",
      " 31  tcp.options                157800 non-null  object \n",
      " 32  tcp.payload                157800 non-null  object \n",
      " 33  tcp.seq                    157800 non-null  float64\n",
      " 34  tcp.srcport                157800 non-null  object \n",
      " 35  udp.port                   157800 non-null  float64\n",
      " 36  udp.stream                 157800 non-null  float64\n",
      " 37  udp.time_delta             157800 non-null  float64\n",
      " 38  dns.qry.name               157800 non-null  float64\n",
      " 39  dns.qry.name.len           157800 non-null  object \n",
      " 40  dns.qry.qu                 157800 non-null  float64\n",
      " 41  dns.qry.type               157800 non-null  float64\n",
      " 42  dns.retransmission         157800 non-null  float64\n",
      " 43  dns.retransmit_request     157800 non-null  float64\n",
      " 44  dns.retransmit_request_in  157800 non-null  float64\n",
      " 45  mqtt.conack.flags          157800 non-null  object \n",
      " 46  mqtt.conflag.cleansess     157800 non-null  float64\n",
      " 47  mqtt.conflags              157800 non-null  float64\n",
      " 48  mqtt.hdrflags              157800 non-null  float64\n",
      " 49  mqtt.len                   157800 non-null  float64\n",
      " 50  mqtt.msg_decoded_as        157800 non-null  float64\n",
      " 51  mqtt.msg                   157800 non-null  object \n",
      " 52  mqtt.msgtype               157800 non-null  float64\n",
      " 53  mqtt.proto_len             157800 non-null  float64\n",
      " 54  mqtt.protoname             157800 non-null  object \n",
      " 55  mqtt.topic                 157800 non-null  object \n",
      " 56  mqtt.topic_len             157800 non-null  float64\n",
      " 57  mqtt.ver                   157800 non-null  float64\n",
      " 58  mbtcp.len                  157800 non-null  float64\n",
      " 59  mbtcp.trans_id             157800 non-null  float64\n",
      " 60  mbtcp.unit_id              157800 non-null  float64\n",
      " 61  Attack_label               157800 non-null  int64  \n",
      " 62  Attack_type                157800 non-null  object \n",
      "dtypes: float64(42), int64(1), object(20)\n",
      "memory usage: 75.8+ MB\n"
     ]
    }
   ],
   "source": [
    "df  = pd.read_csv('./dataset/Edge-IIoTset-dataset/Selected dataset for ML and DL/ML-EdgeIIoT-dataset.csv', low_memory=False)\n",
    "df.info()"
   ]
  },
  {
   "cell_type": "code",
   "execution_count": 30,
   "metadata": {},
   "outputs": [
    {
     "name": "stderr",
     "output_type": "stream",
     "text": [
      "/tmp/ipykernel_3110/4206579687.py:13: SettingWithCopyWarning: \n",
      "A value is trying to be set on a copy of a slice from a DataFrame\n",
      "\n",
      "See the caveats in the documentation: https://pandas.pydata.org/pandas-docs/stable/user_guide/indexing.html#returning-a-view-versus-a-copy\n",
      "  high_corr.drop_duplicates(subset=None, keep='first', inplace=True)\n"
     ]
    }
   ],
   "source": [
    "high_corr = df[\n",
    "    ['Attack_label', \n",
    "    'Attack_type', \n",
    "    'mqtt.topic', \n",
    "    'mqtt.conack.flags', \n",
    "    'mqtt.protoname', \n",
    "    'http.request.method',\n",
    "    'http.referer', \n",
    "    'http.request.version',\n",
    "    'dns.qry.name.len']\n",
    "    ]\n",
    "\n",
    "high_corr.drop_duplicates(subset=None, keep='first', inplace=True)\n",
    "\n",
    "high_corr.to_csv('./stuff/high_corr.csv')\n",
    "\n",
    "          "
   ]
  },
  {
   "cell_type": "code",
   "execution_count": 31,
   "metadata": {},
   "outputs": [
    {
     "name": "stdout",
     "output_type": "stream",
     "text": [
      "<class 'pandas.core.frame.DataFrame'>\n",
      "Index: 39 entries, 0 to 143710\n",
      "Data columns (total 9 columns):\n",
      " #   Column                Non-Null Count  Dtype \n",
      "---  ------                --------------  ----- \n",
      " 0   Attack_label          39 non-null     int64 \n",
      " 1   Attack_type           39 non-null     object\n",
      " 2   mqtt.topic            39 non-null     object\n",
      " 3   mqtt.conack.flags     39 non-null     object\n",
      " 4   mqtt.protoname        39 non-null     object\n",
      " 5   http.request.method   39 non-null     object\n",
      " 6   http.referer          39 non-null     object\n",
      " 7   http.request.version  39 non-null     object\n",
      " 8   dns.qry.name.len      39 non-null     object\n",
      "dtypes: int64(1), object(8)\n",
      "memory usage: 3.0+ KB\n"
     ]
    }
   ],
   "source": [
    "high_corr.info()"
   ]
  },
  {
   "cell_type": "code",
   "execution_count": 15,
   "metadata": {},
   "outputs": [
    {
     "data": {
      "text/plain": [
       "http.request.uri.query    137413\n",
       "mqtt.conack.flags         133499\n",
       "mqtt.topic                133499\n",
       "mqtt.protoname            133499\n",
       "mqtt.msg                  133499\n",
       "                           ...  \n",
       "udp.port                       0\n",
       "udp.stream                     0\n",
       "udp.time_delta                 0\n",
       "dns.qry.name                   0\n",
       "Attack_type                    0\n",
       "Length: 63, dtype: int64"
      ]
     },
     "execution_count": 15,
     "metadata": {},
     "output_type": "execute_result"
    }
   ],
   "source": [
    "counts = df.apply(lambda x: (x == '0.0')).sum()\n",
    "counts = counts.sort_values(ascending=False)\n",
    "counts.head(100)"
   ]
  }
 ],
 "metadata": {
  "kernelspec": {
   "display_name": ".venv",
   "language": "python",
   "name": "python3"
  },
  "language_info": {
   "codemirror_mode": {
    "name": "ipython",
    "version": 3
   },
   "file_extension": ".py",
   "mimetype": "text/x-python",
   "name": "python",
   "nbconvert_exporter": "python",
   "pygments_lexer": "ipython3",
   "version": "3.9.2"
  }
 },
 "nbformat": 4,
 "nbformat_minor": 2
}
