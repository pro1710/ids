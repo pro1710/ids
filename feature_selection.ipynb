{
 "cells": [
  {
   "cell_type": "code",
   "execution_count": 1,
   "metadata": {},
   "outputs": [],
   "source": [
    "import numpy as np\n",
    "import pandas as pd\n",
    "import matplotlib.pyplot as plt\n",
    "import seaborn as sns\n",
    "import random\n",
    "\n",
    "from sklearn.metrics import  classification_report\n",
    "from sklearn.metrics import ConfusionMatrixDisplay\n",
    "from sklearn.metrics import accuracy_score\n",
    "from sklearn.metrics import roc_curve, auc\n",
    "\n",
    "from sklearn.feature_selection import SelectKBest\n",
    "from sklearn.feature_selection import chi2\n",
    "from sklearn.feature_selection import f_classif\n",
    "\n",
    "from sklearn.model_selection import train_test_split\n",
    "from sklearn.model_selection import cross_val_score\n",
    "from sklearn.model_selection import GridSearchCV\n",
    "\n",
    "%matplotlib inline "
   ]
  },
  {
   "cell_type": "code",
   "execution_count": 2,
   "metadata": {},
   "outputs": [
    {
     "data": {
      "text/plain": [
       "<module 'ids_common' from 'd:\\\\stuff\\\\univ\\\\ids\\\\ids_common.py'>"
      ]
     },
     "execution_count": 2,
     "metadata": {},
     "output_type": "execute_result"
    }
   ],
   "source": [
    "import importlib\n",
    "import ids_common\n",
    "importlib.reload(ids_common)"
   ]
  },
  {
   "cell_type": "code",
   "execution_count": 3,
   "metadata": {},
   "outputs": [
    {
     "name": "stdout",
     "output_type": "stream",
     "text": [
      "SEED = 42\n"
     ]
    }
   ],
   "source": [
    "SEED = random.randint(0, 42424242)\n",
    "SEED = 42\n",
    "print(f'SEED = {SEED}')"
   ]
  },
  {
   "cell_type": "code",
   "execution_count": 4,
   "metadata": {},
   "outputs": [],
   "source": [
    "df_orig = pd.read_csv('./sampled_data/sample_1/clean_dataset.csv', low_memory=False)"
   ]
  },
  {
   "cell_type": "code",
   "execution_count": 5,
   "metadata": {},
   "outputs": [
    {
     "data": {
      "text/plain": [
       "Attack_type\n",
       "Normal                   2157201\n",
       "DDoS_UDP                  320144\n",
       "Password                  288556\n",
       "DDoS_TCP                  201994\n",
       "DDoS_ICMP                  99663\n",
       "DDoS_HTTP                  84789\n",
       "Vulnerability_scanner      72128\n",
       "SQL_injection              46888\n",
       "Uploading                  30172\n",
       "Backdoor                   23248\n",
       "Port_Scanning              19974\n",
       "XSS                        13962\n",
       "Ransomware                  9141\n",
       "OS_Fingerprinting            724\n",
       "MITM                         358\n",
       "Name: count, dtype: int64"
      ]
     },
     "execution_count": 5,
     "metadata": {},
     "output_type": "execute_result"
    }
   ],
   "source": [
    "df_orig['Attack_type'].value_counts()"
   ]
  },
  {
   "cell_type": "code",
   "execution_count": 27,
   "metadata": {},
   "outputs": [
    {
     "data": {
      "text/plain": [
       "Attack_type\n",
       "Normal                   10000\n",
       "DDoS_UDP                 10000\n",
       "Password                 10000\n",
       "XSS                      10000\n",
       "DDoS_ICMP                10000\n",
       "DDoS_TCP                 10000\n",
       "SQL_injection            10000\n",
       "Uploading                10000\n",
       "DDoS_HTTP                10000\n",
       "Backdoor                 10000\n",
       "Port_Scanning            10000\n",
       "Vulnerability_scanner    10000\n",
       "Ransomware                9141\n",
       "OS_Fingerprinting          724\n",
       "MITM                       358\n",
       "Name: count, dtype: int64"
      ]
     },
     "execution_count": 27,
     "metadata": {},
     "output_type": "execute_result"
    }
   ],
   "source": [
    "df = pd.DataFrame()\n",
    "\n",
    "for atype in df_orig['Attack_type'].unique():\n",
    "    tmp = df_orig[df_orig['Attack_type']== atype]\n",
    "    df = pd.concat([df, tmp.sample(n=min(10000, tmp.shape[0]))], ignore_index=True)\n",
    "\n",
    "df['Attack_type'].value_counts()"
   ]
  },
  {
   "cell_type": "code",
   "execution_count": 28,
   "metadata": {},
   "outputs": [
    {
     "name": "stdout",
     "output_type": "stream",
     "text": [
      "df_train=(104178, 61)\n",
      "df_test=(26045, 61)\n",
      "X_train=(104178, 59) y_train=(104178,)\n",
      "X_test=(26045, 59) y_test=(26045,)\n"
     ]
    }
   ],
   "source": [
    "df_train, df_test = ids_common.ds_split(df, seed=42)\n",
    "print(f'df_train={df_train.shape}')\n",
    "print(f'df_test={df_test.shape}')\n",
    "\n",
    "X_train, y_train = ids_common.get_X_y(df_train, ids_common.target_label_2_class)\n",
    "print(f'X_train={X_train.shape} y_train={y_train.shape}')\n",
    "\n",
    "X_test, y_test = ids_common.get_X_y(df_test, ids_common.target_label_2_class)\n",
    "print(f'X_test={X_test.shape} y_test={y_test.shape}')"
   ]
  },
  {
   "cell_type": "code",
   "execution_count": 29,
   "metadata": {},
   "outputs": [
    {
     "name": "stdout",
     "output_type": "stream",
     "text": [
      "DecisionTreeClassifier:\n",
      "Train score: 0.9873389775192459\n",
      "Test score:  0.9882511038587061\n",
      "[(0.5, 'tcp.ack'), (0.24, 'mqtt.msgtype'), (0.08, 'tcp.seq'), (0.07, 'tcp.checksum'), (0.06, 'http.tls_port'), (0.04, 'tcp.flags'), (0.0, 'udp.time_delta'), (0.0, 'udp.stream'), (0.0, 'tcp.len'), (0.0, 'tcp.flags.ack')]\n",
      "['tcp.ack', 'mqtt.msgtype', 'tcp.seq', 'tcp.checksum', 'http.tls_port', 'tcp.flags']\n"
     ]
    }
   ],
   "source": [
    "from sklearn.tree import DecisionTreeClassifier\n",
    "cls = DecisionTreeClassifier(**{'criterion': 'entropy', 'max_depth': 16}, \n",
    "                             random_state=SEED)\n",
    "cls.fit(X_train, y_train)\n",
    "print(f'{cls.__class__.__name__}:')\n",
    "print(f'Train score: {cls.score(X_train, y_train)}')\n",
    "print(f'Test score:  {cls.score(X_test, y_test)}')\n",
    "\n",
    "fetures_scores = sorted(zip(cls.feature_importances_.round(2),\n",
    "           cls.feature_names_in_),\n",
    "           reverse=True)[:10]\n",
    "print(fetures_scores)\n",
    "\n",
    "features = [f[1] for f in fetures_scores if f[0] > 0]\n",
    "\n",
    "print(features)"
   ]
  },
  {
   "cell_type": "code",
   "execution_count": 30,
   "metadata": {},
   "outputs": [
    {
     "name": "stdout",
     "output_type": "stream",
     "text": [
      "RandomForestClassifier:\n",
      "Train score: 0.9999616041774655\n",
      "Test score:  0.9858322134766749\n",
      "(0.27, 'tcp.ack')\n",
      "(0.17, 'tcp.seq')\n",
      "(0.1, 'tcp.checksum')\n",
      "(0.08, 'tcp.ack_raw')\n",
      "(0.06, 'tcp.flags')\n",
      "(0.06, 'mqtt.msgtype')\n",
      "(0.05, 'tcp.len')\n",
      "(0.05, 'mqtt.hdrflags')\n",
      "(0.03, 'mqtt.len')\n",
      "(0.02, 'tcp.connection.rst')\n",
      "(0.01, 'udp.stream')\n",
      "(0.01, 'tcp.flags.ack')\n",
      "(0.01, 'tcp.connection.synack')\n",
      "(0.01, 'tcp.connection.fin')\n",
      "(0.01, 'mqtt.ver')\n",
      "(0.01, 'mqtt.topic_len')\n",
      "(0.01, 'mqtt.conflags')\n",
      "(0.01, 'icmp.seq_le')\n",
      "(0.01, 'icmp.checksum')\n",
      "(0.01, 'http.tls_port')\n",
      "['tcp.ack', 'tcp.seq', 'tcp.checksum', 'tcp.ack_raw', 'tcp.flags', 'mqtt.msgtype', 'tcp.len', 'mqtt.hdrflags', 'mqtt.len', 'tcp.connection.rst', 'udp.stream', 'tcp.flags.ack', 'tcp.connection.synack', 'tcp.connection.fin', 'mqtt.ver', 'mqtt.topic_len', 'mqtt.conflags', 'icmp.seq_le', 'icmp.checksum', 'http.tls_port']\n"
     ]
    }
   ],
   "source": [
    "from sklearn.ensemble import RandomForestClassifier\n",
    "cls = RandomForestClassifier(**{'criterion': 'entropy', 'max_depth': 128, 'max_features': 'log2', 'n_estimators': 100},\n",
    "                             random_state=SEED)\n",
    "cls.fit(X_train, y_train)\n",
    "print(f'{cls.__class__.__name__}:')\n",
    "print(f'Train score: {cls.score(X_train, y_train)}')\n",
    "print(f'Test score:  {cls.score(X_test, y_test)}')\n",
    "\n",
    "fetures_scores = sorted(zip(cls.feature_importances_.round(2),\n",
    "           cls.feature_names_in_),\n",
    "           reverse=True)\n",
    "\n",
    "for fs in fetures_scores:\n",
    "    if fs[0] <= 0:\n",
    "        break\n",
    "    print(fs)\n",
    "\n",
    "features = [f[1] for f in fetures_scores if f[0] > 0]\n",
    "\n",
    "print(features)"
   ]
  },
  {
   "cell_type": "code",
   "execution_count": 31,
   "metadata": {},
   "outputs": [
    {
     "name": "stdout",
     "output_type": "stream",
     "text": [
      "LogisticRegression:\n",
      "Train score: 0.9270383382288007\n",
      "Test score:  0.9269725475139182\n"
     ]
    }
   ],
   "source": [
    "\n",
    "from sklearn.linear_model import LogisticRegression\n",
    "\n",
    "# [GS] Tuned:\n",
    "# [GS] Score: 0.9352859928757888\n",
    "# [GS] Parms:  {'C': 1, 'penalty': 'l2', 'solver': 'lbfgs'}\n",
    "# [GS] Estimator: LogisticRegression(C=1, max_iter=1000, random_state=42)\n",
    "# LogisticRegression:\n",
    "# Train score: 0.9317354638260098\n",
    "# Test score:  0.9307774227902024\n",
    "\n",
    "cls = LogisticRegression(**{'C': 1, 'penalty': 'l2', 'solver': 'lbfgs'},\n",
    "                            max_iter=1000, random_state=SEED)\n",
    "\n",
    "# grid_search = GridSearchCV(cls, {\n",
    "#                                 'solver': ['lbfgs','newton-cholesky'],\n",
    "#                                 'penalty': ['l2', None],\n",
    "#                                 'C': [0.1, 1, 10, 100, 1000]\n",
    "#                                 }, cv=2, verbose=0)\n",
    "\n",
    "# grid_search.fit(X_train, y_train)\n",
    "\n",
    "# print('[GS] Tuned:')\n",
    "# print('[GS] Score:', grid_search.best_score_)\n",
    "# print('[GS] Parms: ', grid_search.best_params_)\n",
    "# print('[GS] Estimator:', grid_search.best_estimator_)\n",
    "\n",
    "# cls = grid_search.best_estimator_\n",
    "\n",
    "cls.fit(X_train, y_train)\n",
    "print(f'{cls.__class__.__name__}:')\n",
    "print(f'Train score: {cls.score(X_train, y_train)}')\n",
    "print(f'Test score:  {cls.score(X_test, y_test)}')"
   ]
  },
  {
   "cell_type": "code",
   "execution_count": 32,
   "metadata": {},
   "outputs": [
    {
     "name": "stdout",
     "output_type": "stream",
     "text": [
      "KNeighborsClassifier:\n",
      "Train score: 0.9321065868033558\n",
      "Test score:  0.9209061240161259\n"
     ]
    }
   ],
   "source": [
    "from sklearn.neighbors import KNeighborsClassifier\n",
    "\n",
    "cls = KNeighborsClassifier(5)\n",
    "cls.fit(X_train, y_train)\n",
    "print(f'{cls.__class__.__name__}:')\n",
    "print(f'Train score: {cls.score(X_train, y_train)}')\n",
    "print(f'Test score:  {cls.score(X_test, y_test)}')"
   ]
  },
  {
   "cell_type": "code",
   "execution_count": 33,
   "metadata": {},
   "outputs": [
    {
     "name": "stdout",
     "output_type": "stream",
     "text": [
      "GaussianNB:\n",
      "Train score: 0.8892088540766765\n",
      "Test score:  0.8887694375119984\n"
     ]
    }
   ],
   "source": [
    "from sklearn.naive_bayes import GaussianNB\n",
    "\n",
    "cls = GaussianNB()\n",
    "cls.fit(X_train, y_train)\n",
    "print(f'{cls.__class__.__name__}:')\n",
    "print(f'Train score: {cls.score(X_train, y_train)}')\n",
    "print(f'Test score:  {cls.score(X_test, y_test)}')"
   ]
  },
  {
   "cell_type": "code",
   "execution_count": 34,
   "metadata": {},
   "outputs": [
    {
     "name": "stderr",
     "output_type": "stream",
     "text": [
      "c:\\Users\\pro17\\anaconda3\\envs\\ids\\Lib\\site-packages\\sklearn\\discriminant_analysis.py:935: UserWarning: Variables are collinear\n",
      "  warnings.warn(\"Variables are collinear\")\n"
     ]
    },
    {
     "name": "stdout",
     "output_type": "stream",
     "text": [
      "QuadraticDiscriminantAnalysis:\n",
      "Train score: 0.9487895716945997\n",
      "Test score:  0.9503551545402189\n"
     ]
    }
   ],
   "source": [
    "from sklearn.discriminant_analysis import QuadraticDiscriminantAnalysis\n",
    "\n",
    "cls = QuadraticDiscriminantAnalysis()\n",
    "cls.fit(X_train, y_train)\n",
    "print(f'{cls.__class__.__name__}:')\n",
    "print(f'Train score: {cls.score(X_train, y_train)}')\n",
    "print(f'Test score:  {cls.score(X_test, y_test)}')"
   ]
  },
  {
   "cell_type": "code",
   "execution_count": 35,
   "metadata": {},
   "outputs": [
    {
     "name": "stdout",
     "output_type": "stream",
     "text": [
      "MLPClassifier:\n",
      "Train score: 0.9259920520647353\n",
      "Test score:  0.9268957573430601\n"
     ]
    }
   ],
   "source": [
    "from sklearn.neural_network import MLPClassifier\n",
    "cls = MLPClassifier(alpha=1, max_iter=1000, random_state=42)\n",
    "cls.fit(X_train, y_train)\n",
    "print(f'{cls.__class__.__name__}:')\n",
    "print(f'Train score: {cls.score(X_train, y_train)}')\n",
    "print(f'Test score:  {cls.score(X_test, y_test)}')\n"
   ]
  },
  {
   "cell_type": "code",
   "execution_count": 37,
   "metadata": {},
   "outputs": [
    {
     "name": "stdout",
     "output_type": "stream",
     "text": [
      "AdaBoostClassifier:\n",
      "Train score: 0.9803221409510645\n",
      "Test score:  0.9816855442503359\n"
     ]
    }
   ],
   "source": [
    "from sklearn.ensemble import AdaBoostClassifier\n",
    "cls = AdaBoostClassifier(algorithm=\"SAMME\", random_state=42)\n",
    "cls.fit(X_train, y_train)\n",
    "print(f'{cls.__class__.__name__}:')\n",
    "print(f'Train score: {cls.score(X_train, y_train)}')\n",
    "print(f'Test score:  {cls.score(X_test, y_test)}')\n"
   ]
  },
  {
   "cell_type": "code",
   "execution_count": 38,
   "metadata": {},
   "outputs": [
    {
     "name": "stdout",
     "output_type": "stream",
     "text": [
      "XGBClassifier:\n",
      "Train score: 0.987540555587552\n",
      "Test score:  0.9882511038587061\n"
     ]
    }
   ],
   "source": [
    "import xgboost as xgb\n",
    "cls = xgb.XGBClassifier(objective=\"binary:logistic\", random_state=42)\n",
    "# cls = xgb.XGBClassifier(objective=\"multi:softprob\", random_state=42)\n",
    "cls.fit(X_train, y_train)\n",
    "print(f'{cls.__class__.__name__}:')\n",
    "print(f'Train score: {cls.score(X_train, y_train)}')\n",
    "print(f'Test score:  {cls.score(X_test, y_test)}')"
   ]
  },
  {
   "cell_type": "code",
   "execution_count": 11,
   "metadata": {},
   "outputs": [],
   "source": [
    "\n",
    "x_train = X_train[features]\n",
    "\n",
    "from sklearn.svm import SVC\n",
    "cls = SVC(kernel=\"linear\", C=0.25, random_state=42)\n",
    "\n",
    "cls.fit(x_train, y_train)\n",
    "print(f'{cls.__class__.__name__}:')\n",
    "print(f'Train score: {cls.score(x_train, y_train)}')\n",
    "print(f'Test score:  {cls.score(X_test, y_test)}')"
   ]
  },
  {
   "cell_type": "code",
   "execution_count": null,
   "metadata": {},
   "outputs": [],
   "source": [
    "df_train_global, df_test_global = ids_common.ds_split(df_orig, seed=42)\n",
    "\n",
    "print(f'df_train_global={df_train_global.shape}')\n",
    "print(f'df_test_global={df_test_global.shape}')"
   ]
  },
  {
   "cell_type": "code",
   "execution_count": 6,
   "metadata": {},
   "outputs": [],
   "source": [
    "X_train, y_train = ids_common.get_X_y(df_train_global, ids_common.target_label_2_class)"
   ]
  },
  {
   "cell_type": "code",
   "execution_count": 9,
   "metadata": {},
   "outputs": [],
   "source": []
  },
  {
   "cell_type": "code",
   "execution_count": 16,
   "metadata": {},
   "outputs": [
    {
     "name": "stderr",
     "output_type": "stream",
     "text": [
      "c:\\Users\\pro17\\anaconda3\\envs\\ids\\Lib\\site-packages\\sklearn\\feature_selection\\_univariate_selection.py:112: UserWarning: Features [ 4 30] are constant.\n",
      "  warnings.warn(\"Features %s are constant.\" % constant_features_idx, UserWarning)\n",
      "c:\\Users\\pro17\\anaconda3\\envs\\ids\\Lib\\site-packages\\sklearn\\feature_selection\\_univariate_selection.py:113: RuntimeWarning: invalid value encountered in divide\n",
      "  f = msb / msw\n"
     ]
    }
   ],
   "source": [
    "kbest_chi2 = SelectKBest(chi2, k=20).fit(X_train, y_train)\n",
    "kbest_anova = SelectKBest(f_classif, k=20).fit(X_train, y_train)"
   ]
  },
  {
   "cell_type": "code",
   "execution_count": 17,
   "metadata": {},
   "outputs": [
    {
     "data": {
      "text/plain": [
       "array(['icmp.checksum', 'icmp.seq_le', 'http.response', 'tcp.ack_raw',\n",
       "       'tcp.checksum', 'tcp.connection.syn', 'tcp.flags', 'udp.stream',\n",
       "       'mqtt.conflag.cleansess', 'mqtt.conflags', 'mqtt.hdrflags',\n",
       "       'mqtt.len', 'mqtt.msgtype', 'mqtt.proto_len',\n",
       "       'http.request.method-0.0', 'http.request.method-GET',\n",
       "       'http.request.version-0.0', 'mqtt.protoname-0.0',\n",
       "       'mqtt.protoname-MQTT', 'mqtt.topic-0.0'], dtype=object)"
      ]
     },
     "execution_count": 17,
     "metadata": {},
     "output_type": "execute_result"
    }
   ],
   "source": [
    "kbest_anova.get_feature_names_out()"
   ]
  },
  {
   "cell_type": "code",
   "execution_count": 22,
   "metadata": {},
   "outputs": [
    {
     "data": {
      "text/plain": [
       "array(['icmp.checksum', 'icmp.seq_le', 'http.content_length',\n",
       "       'http.tls_port', 'tcp.ack', 'tcp.ack_raw', 'tcp.checksum',\n",
       "       'tcp.connection.synack', 'tcp.flags', 'tcp.flags.ack', 'tcp.len',\n",
       "       'tcp.seq', 'udp.stream', 'dns.retransmit_request_in',\n",
       "       'mqtt.hdrflags', 'mqtt.len', 'mqtt.msgtype', 'mqtt.topic_len',\n",
       "       'mqtt.ver', 'mbtcp.len'], dtype=object)"
      ]
     },
     "execution_count": 22,
     "metadata": {},
     "output_type": "execute_result"
    }
   ],
   "source": [
    "kbest_chi2.get_feature_names_out()"
   ]
  },
  {
   "cell_type": "code",
   "execution_count": 21,
   "metadata": {},
   "outputs": [
    {
     "data": {
      "text/plain": [
       "{'dns.retransmit_request_in',\n",
       " 'http.content_length',\n",
       " 'http.request.method-0.0',\n",
       " 'http.request.method-GET',\n",
       " 'http.request.version-0.0',\n",
       " 'http.response',\n",
       " 'http.tls_port',\n",
       " 'mbtcp.len',\n",
       " 'mqtt.conflag.cleansess',\n",
       " 'mqtt.conflags',\n",
       " 'mqtt.proto_len',\n",
       " 'mqtt.protoname-0.0',\n",
       " 'mqtt.protoname-MQTT',\n",
       " 'mqtt.topic-0.0',\n",
       " 'mqtt.topic_len',\n",
       " 'mqtt.ver',\n",
       " 'tcp.ack',\n",
       " 'tcp.connection.syn',\n",
       " 'tcp.connection.synack',\n",
       " 'tcp.flags.ack',\n",
       " 'tcp.len',\n",
       " 'tcp.seq'}"
      ]
     },
     "execution_count": 21,
     "metadata": {},
     "output_type": "execute_result"
    }
   ],
   "source": [
    "fs1 = set(kbest_anova.get_feature_names_out())\n",
    "fs2 = set(kbest_chi2.get_feature_names_out())\n",
    "\n",
    "fs1.symmetric_difference(fs2)"
   ]
  }
 ],
 "metadata": {
  "kernelspec": {
   "display_name": "ids",
   "language": "python",
   "name": "python3"
  },
  "language_info": {
   "codemirror_mode": {
    "name": "ipython",
    "version": 3
   },
   "file_extension": ".py",
   "mimetype": "text/x-python",
   "name": "python",
   "nbconvert_exporter": "python",
   "pygments_lexer": "ipython3",
   "version": "3.11.7"
  }
 },
 "nbformat": 4,
 "nbformat_minor": 2
}
