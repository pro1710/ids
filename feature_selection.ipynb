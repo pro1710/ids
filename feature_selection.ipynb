{
 "cells": [
  {
   "cell_type": "code",
   "execution_count": 8,
   "metadata": {},
   "outputs": [],
   "source": [
    "import numpy as np\n",
    "import pandas as pd\n",
    "import matplotlib.pyplot as plt\n",
    "import seaborn as sns\n",
    "import random\n",
    "\n",
    "from sklearn.metrics import  classification_report\n",
    "from sklearn.metrics import ConfusionMatrixDisplay\n",
    "from sklearn.metrics import accuracy_score\n",
    "from sklearn.metrics import roc_curve, auc\n",
    "\n",
    "from sklearn.feature_selection import SelectKBest\n",
    "from sklearn.feature_selection import chi2\n",
    "from sklearn.feature_selection import f_classif\n",
    "\n",
    "from sklearn.model_selection import train_test_split\n",
    "from sklearn.model_selection import cross_val_score\n",
    "from sklearn.model_selection import GridSearchCV\n",
    "\n",
    "from sklearn import tree\n",
    "from sklearn.tree import DecisionTreeClassifier\n",
    "from sklearn.ensemble import RandomForestClassifier\n",
    "\n",
    "%matplotlib inline "
   ]
  },
  {
   "cell_type": "code",
   "execution_count": 2,
   "metadata": {},
   "outputs": [
    {
     "data": {
      "text/plain": [
       "<module 'ids_common' from 'd:\\\\stuff\\\\univ\\\\ids\\\\ids_common.py'>"
      ]
     },
     "execution_count": 2,
     "metadata": {},
     "output_type": "execute_result"
    }
   ],
   "source": [
    "import importlib\n",
    "import ids_common\n",
    "importlib.reload(ids_common)"
   ]
  },
  {
   "cell_type": "code",
   "execution_count": 3,
   "metadata": {},
   "outputs": [
    {
     "name": "stdout",
     "output_type": "stream",
     "text": [
      "SEED = 42\n"
     ]
    }
   ],
   "source": [
    "SEED = random.randint(0, 42424242)\n",
    "SEED = 42\n",
    "print(f'SEED = {SEED}')"
   ]
  },
  {
   "cell_type": "code",
   "execution_count": 4,
   "metadata": {},
   "outputs": [
    {
     "name": "stdout",
     "output_type": "stream",
     "text": [
      "df_train_global=(2695153, 63)\n",
      "df_test_global=(673789, 63)\n"
     ]
    }
   ],
   "source": [
    "df_orig = pd.read_csv('./sampled_data/sample_1/clean_dataset.csv', low_memory=False)\n",
    "df_train_global, df_test_global = ids_common.ds_split(df_orig, seed=42)\n",
    "\n",
    "print(f'df_train_global={df_train_global.shape}')\n",
    "print(f'df_test_global={df_test_global.shape}')"
   ]
  },
  {
   "cell_type": "code",
   "execution_count": 6,
   "metadata": {},
   "outputs": [],
   "source": [
    "X_train, y_train = ids_common.get_X_y(df_train_global, ids_common.target_label_2_class)"
   ]
  },
  {
   "cell_type": "code",
   "execution_count": 9,
   "metadata": {},
   "outputs": [],
   "source": []
  },
  {
   "cell_type": "code",
   "execution_count": 16,
   "metadata": {},
   "outputs": [
    {
     "name": "stderr",
     "output_type": "stream",
     "text": [
      "c:\\Users\\pro17\\anaconda3\\envs\\ids\\Lib\\site-packages\\sklearn\\feature_selection\\_univariate_selection.py:112: UserWarning: Features [ 4 30] are constant.\n",
      "  warnings.warn(\"Features %s are constant.\" % constant_features_idx, UserWarning)\n",
      "c:\\Users\\pro17\\anaconda3\\envs\\ids\\Lib\\site-packages\\sklearn\\feature_selection\\_univariate_selection.py:113: RuntimeWarning: invalid value encountered in divide\n",
      "  f = msb / msw\n"
     ]
    }
   ],
   "source": [
    "kbest_chi2 = SelectKBest(chi2, k=20).fit(X_train, y_train)\n",
    "kbest_anova = SelectKBest(f_classif, k=20).fit(X_train, y_train)"
   ]
  },
  {
   "cell_type": "code",
   "execution_count": 17,
   "metadata": {},
   "outputs": [
    {
     "data": {
      "text/plain": [
       "array(['icmp.checksum', 'icmp.seq_le', 'http.response', 'tcp.ack_raw',\n",
       "       'tcp.checksum', 'tcp.connection.syn', 'tcp.flags', 'udp.stream',\n",
       "       'mqtt.conflag.cleansess', 'mqtt.conflags', 'mqtt.hdrflags',\n",
       "       'mqtt.len', 'mqtt.msgtype', 'mqtt.proto_len',\n",
       "       'http.request.method-0.0', 'http.request.method-GET',\n",
       "       'http.request.version-0.0', 'mqtt.protoname-0.0',\n",
       "       'mqtt.protoname-MQTT', 'mqtt.topic-0.0'], dtype=object)"
      ]
     },
     "execution_count": 17,
     "metadata": {},
     "output_type": "execute_result"
    }
   ],
   "source": [
    "kbest_anova.get_feature_names_out()"
   ]
  },
  {
   "cell_type": "code",
   "execution_count": 22,
   "metadata": {},
   "outputs": [
    {
     "data": {
      "text/plain": [
       "array(['icmp.checksum', 'icmp.seq_le', 'http.content_length',\n",
       "       'http.tls_port', 'tcp.ack', 'tcp.ack_raw', 'tcp.checksum',\n",
       "       'tcp.connection.synack', 'tcp.flags', 'tcp.flags.ack', 'tcp.len',\n",
       "       'tcp.seq', 'udp.stream', 'dns.retransmit_request_in',\n",
       "       'mqtt.hdrflags', 'mqtt.len', 'mqtt.msgtype', 'mqtt.topic_len',\n",
       "       'mqtt.ver', 'mbtcp.len'], dtype=object)"
      ]
     },
     "execution_count": 22,
     "metadata": {},
     "output_type": "execute_result"
    }
   ],
   "source": [
    "kbest_chi2.get_feature_names_out()"
   ]
  },
  {
   "cell_type": "code",
   "execution_count": 21,
   "metadata": {},
   "outputs": [
    {
     "data": {
      "text/plain": [
       "{'dns.retransmit_request_in',\n",
       " 'http.content_length',\n",
       " 'http.request.method-0.0',\n",
       " 'http.request.method-GET',\n",
       " 'http.request.version-0.0',\n",
       " 'http.response',\n",
       " 'http.tls_port',\n",
       " 'mbtcp.len',\n",
       " 'mqtt.conflag.cleansess',\n",
       " 'mqtt.conflags',\n",
       " 'mqtt.proto_len',\n",
       " 'mqtt.protoname-0.0',\n",
       " 'mqtt.protoname-MQTT',\n",
       " 'mqtt.topic-0.0',\n",
       " 'mqtt.topic_len',\n",
       " 'mqtt.ver',\n",
       " 'tcp.ack',\n",
       " 'tcp.connection.syn',\n",
       " 'tcp.connection.synack',\n",
       " 'tcp.flags.ack',\n",
       " 'tcp.len',\n",
       " 'tcp.seq'}"
      ]
     },
     "execution_count": 21,
     "metadata": {},
     "output_type": "execute_result"
    }
   ],
   "source": [
    "fs1 = set(kbest_anova.get_feature_names_out())\n",
    "fs2 = set(kbest_chi2.get_feature_names_out())\n",
    "\n",
    "fs1.symmetric_difference(fs2)"
   ]
  }
 ],
 "metadata": {
  "kernelspec": {
   "display_name": "ids",
   "language": "python",
   "name": "python3"
  },
  "language_info": {
   "codemirror_mode": {
    "name": "ipython",
    "version": 3
   },
   "file_extension": ".py",
   "mimetype": "text/x-python",
   "name": "python",
   "nbconvert_exporter": "python",
   "pygments_lexer": "ipython3",
   "version": "3.11.7"
  }
 },
 "nbformat": 4,
 "nbformat_minor": 2
}
